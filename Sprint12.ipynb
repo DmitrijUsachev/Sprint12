{
 "cells": [
  {
   "cell_type": "markdown",
   "id": "a1226739",
   "metadata": {},
   "source": [
    "# Проект для \"Викишоп\" с BERT"
   ]
  },
  {
   "cell_type": "markdown",
   "id": "26b54bba",
   "metadata": {},
   "source": [
    "# 1. Постановка задачи"
   ]
  },
  {
   "cell_type": "markdown",
   "id": "dbf40ca1",
   "metadata": {},
   "source": [
    "## 1.1. Постановка задачи"
   ]
  },
  {
   "cell_type": "markdown",
   "id": "08b3682e",
   "metadata": {},
   "source": [
    "Интернет-магазин «Викишоп» запускает новый сервис. Теперь пользователи могут редактировать и дополнять описания товаров, как в вики-сообществах. То есть клиенты предлагают свои правки и комментируют изменения других. Магазину нужен инструмент, который будет искать токсичные комментарии и отправлять их на модерацию. \n",
    "Требуется обучить модель классифицировать комментарии на позитивные и негативные. \n",
    "Постройте модель со значением метрики качества F1 не меньше 0.75. "
   ]
  },
  {
   "cell_type": "markdown",
   "id": "19ba4da5",
   "metadata": {},
   "source": [
    "## 1.2. Описание данных"
   ]
  },
  {
   "cell_type": "markdown",
   "id": "8b58fdc5",
   "metadata": {},
   "source": [
    "**Признаки:**  \n",
    "- text текст комментария.\n",
    "\n",
    "**Целевой признак:** \n",
    "\n",
    "- toxic - целевой признак  "
   ]
  },
  {
   "cell_type": "markdown",
   "id": "7f1223f4",
   "metadata": {},
   "source": [
    "# 2. Импорт данных"
   ]
  },
  {
   "cell_type": "markdown",
   "id": "67b4698d",
   "metadata": {},
   "source": [
    "## 2.1. Импорт библиотек"
   ]
  },
  {
   "cell_type": "code",
   "execution_count": 1,
   "id": "c62875ad",
   "metadata": {},
   "outputs": [],
   "source": [
    "import numpy as np\n",
    "import pandas as pd\n",
    "import seaborn as sns\n",
    "import os\n",
    "import torch\n",
    "import re\n",
    "import transformers\n",
    "import math as mt\n",
    "import matplotlib.pyplot as plt\n",
    "import spacy\n",
    "import sys\n",
    "import requests\n",
    "import warnings\n",
    "from sklearn.metrics import mean_squared_error\n",
    "from sklearn.model_selection import train_test_split\n",
    "from sklearn.model_selection import GridSearchCV\n",
    "from tqdm import notebook\n",
    "from sklearn.linear_model import LogisticRegression\n",
    "from sklearn.ensemble import RandomForestClassifier\n",
    "from sklearn.model_selection import train_test_split\n",
    "from sklearn.metrics import f1_score\n",
    "from io import BytesIO\n",
    "from urllib.parse import urlencode\n",
    "from pymystem3 import Mystem\n",
    "from sklearn.utils import shuffle\n",
    "from sklearn.dummy import DummyRegressor\n",
    "from lightgbm import LGBMClassifier\n",
    "from tqdm import tqdm\n",
    "from transformers import AutoModel\n",
    "from transformers import BertForSequenceClassification\n",
    "from huggingface_hub import notebook_login\n",
    "from transformers import AutoTokenizer, AutoModelForSequenceClassification\n",
    "from transformers import pipeline\n",
    "warnings.filterwarnings('ignore')"
   ]
  },
  {
   "cell_type": "code",
   "execution_count": 2,
   "id": "0f2f8245",
   "metadata": {},
   "outputs": [
    {
     "data": {
      "application/vnd.jupyter.widget-view+json": {
       "model_id": "6b55820aef3b44f69857d5a30ec43a7e",
       "version_major": 2,
       "version_minor": 0
      }
     },
     "metadata": {},
     "output_type": "display_data"
    }
   ],
   "source": [
    "notebook_login()"
   ]
  },
  {
   "cell_type": "markdown",
   "id": "08e918a2",
   "metadata": {},
   "source": [
    "## 2.2. Импорт датасета"
   ]
  },
  {
   "cell_type": "code",
   "execution_count": 3,
   "id": "1f51ad34",
   "metadata": {},
   "outputs": [],
   "source": [
    "def read_data_set(pth1, pth2) -> pd.DataFrame:\n",
    "    df = pd.DataFrame    \n",
    "    try:\n",
    "        df = pd.read_csv(pth1, index_col= 'Unnamed: 0')\n",
    "    except OSError as e:\n",
    "        df = pd.read_csv(pth2, index_col= 'Unnamed: 0')\n",
    "    return df"
   ]
  },
  {
   "cell_type": "code",
   "execution_count": 4,
   "id": "ef0e8e6a",
   "metadata": {},
   "outputs": [],
   "source": [
    "pth1 = 'toxic_comments.csv'         \n",
    "pth2 = 'https://code.s3.yandex.net/datasets/toxic_comments.csv'"
   ]
  },
  {
   "cell_type": "code",
   "execution_count": 5,
   "id": "950236d2",
   "metadata": {},
   "outputs": [],
   "source": [
    "df = read_data_set(pth1, pth2);"
   ]
  },
  {
   "cell_type": "code",
   "execution_count": 6,
   "id": "53b27d0d",
   "metadata": {},
   "outputs": [],
   "source": [
    "df.info()"
   ]
  },
  {
   "cell_type": "code",
   "execution_count": 7,
   "id": "b289f955",
   "metadata": {},
   "outputs": [
    {
     "data": {},
     "execution_count": 7,
     "metadata": {},
     "output_type": "execute_result"
    }
   ],
   "source": [
    "df.sample(10)"
   ]
  },
  {
   "cell_type": "code",
   "execution_count": 8,
   "id": "61e6a125",
   "metadata": {},
   "outputs": [
    {
     "data": {},
     "execution_count": 8,
     "metadata": {},
     "output_type": "execute_result"
    }
   ],
   "source": [
    "df.duplicated().sum()"
   ]
  },
  {
   "cell_type": "code",
   "execution_count": 9,
   "id": "035a5c62",
   "metadata": {},
   "outputs": [
    {
     "data": {},
     "execution_count": 9,
     "metadata": {},
     "output_type": "execute_result"
    }
   ],
   "source": [
    "df.isna().sum()"
   ]
  },
  {
   "cell_type": "code",
   "execution_count": 10,
   "id": "79b561b6",
   "metadata": {},
   "outputs": [
    {
     "data": {},
     "execution_count": 10,
     "metadata": {},
     "output_type": "execute_result"
    }
   ],
   "source": [
    "df.toxic.value_counts()"
   ]
  },
  {
   "cell_type": "code",
   "execution_count": 11,
   "id": "7df12bee",
   "metadata": {},
   "outputs": [
    {
     "data": {
      "image/png": "[encoded data removed]"
     },
     "metadata": {},
     "output_type": "display_data"
    }
   ],
   "source": [
    "df['toxic'].hist(bins=5);\n",
    "plt.title('Классы без балансировки')\n",
    "plt.show()"
   ]
  },
  {
   "cell_type": "markdown",
   "id": "894c6366",
   "metadata": {},
   "source": [
    "**Анализ:**\n",
    "\n",
    "1. Пропусков и дубликатов нет\n",
    "2. Названия столбцов соответствуют snake_case\n",
    "3. Классы не сбалансированы"
   ]
  },
  {
   "cell_type": "markdown",
   "id": "b7fd2e8d",
   "metadata": {},
   "source": [
    "Лематизируем твиты"
   ]
  },
  {
   "cell_type": "markdown",
   "id": "9b732762",
   "metadata": {},
   "source": [
    "Функцией ниже это сделать не получается. Придется использовать spacy"
   ]
  },
  {
   "cell_type": "markdown",
   "id": "d545614d",
   "metadata": {},
   "source": [
    "def lemma(text):\n",
    "    m = Mystem() \n",
    "    return ''.join(m.lemmatize(text))   "
   ]
  },
  {
   "cell_type": "code",
   "execution_count": 12,
   "id": "ba6d5d78",
   "metadata": {},
   "outputs": [],
   "source": [
    "def lemma_by_spacy_clear(text):\n",
    "    doc = nlp(text)\n",
    "    doc=\" \".join([token.lemma_ for token in doc])\n",
    "    doc=re.sub(r'[^a-zA-Z ]',' ',doc)\n",
    "  \n",
    "    return \" \".join(doc.split())"
   ]
  },
  {
   "cell_type": "code",
   "execution_count": 13,
   "id": "d43b5b1b",
   "metadata": {},
   "outputs": [],
   "source": [
    "nlp = spacy.load('en_core_web_sm', disable=['parser', 'ner'])"
   ]
  },
  {
   "cell_type": "code",
   "execution_count": 14,
   "id": "04808acf",
   "metadata": {},
   "outputs": [],
   "source": [
    "tqdm.pandas()\n",
    "df.text = df.text.progress_apply(lemma_by_spacy_clear)"
   ]
  },
  {
   "cell_type": "markdown",
   "id": "02a41b20",
   "metadata": {},
   "source": [
    "Сэмплируем трейновую выборку"
   ]
  },
  {
   "cell_type": "code",
   "execution_count": 15,
   "id": "372c436b",
   "metadata": {},
   "outputs": [],
   "source": [
    "target = df['toxic']\n",
    "features = df.drop('toxic', axis=1)"
   ]
  },
  {
   "cell_type": "code",
   "execution_count": 16,
   "id": "7175b3f5",
   "metadata": {},
   "outputs": [],
   "source": [
    "def upsample(features, target, repeat):   \n",
    "    features_zeros = features[target == 0]\n",
    "    features_ones = features[target == 1]\n",
    "    target_zeros = target[target == 0]\n",
    "    target_ones = target[target == 1]\n",
    "\n",
    "    features_upsampled = pd.concat([features_zeros] + [features_ones] * repeat)\n",
    "    target_upsampled = pd.concat([target_zeros] + [target_ones] * repeat)\n",
    "    \n",
    "    features_upsampled, target_upsampled = shuffle(\n",
    "        features_upsampled, target_upsampled, random_state=12345)\n",
    "    \n",
    "    return features_upsampled, target_upsampled"
   ]
  },
  {
   "cell_type": "markdown",
   "id": "4c314261",
   "metadata": {},
   "source": [
    "**Вывод:** \n",
    "\n",
    "В ходе этапа:\n",
    "\n",
    "1. Загрузили датасет\n",
    "2. Провели анализ загруженого датаффрейма\n",
    "3. Лематизировали твиты\n",
    "\n",
    "Можно переходить к токенизации и подготовке эмбедингов "
   ]
  },
  {
   "cell_type": "markdown",
   "id": "2a95ab78",
   "metadata": {},
   "source": [
    "## 3 Подготовка признаков для обучения"
   ]
  },
  {
   "cell_type": "markdown",
   "id": "2eae8fc4",
   "metadata": {},
   "source": [
    "Токенизация"
   ]
  },
  {
   "cell_type": "code",
   "execution_count": 39,
   "id": "3eacf067",
   "metadata": {},
   "outputs": [],
   "source": [
    "df_features = pd.DataFrame(features)\n",
    "df_target=pd.DataFrame(target)\n",
    "df_BERT_features = df_features.sample(n=2000,random_state=42)"
   ]
  },
  {
   "cell_type": "code",
   "execution_count": 40,
   "id": "65deb906",
   "metadata": {},
   "outputs": [],
   "source": [
    "df_BERT_target = target[df_BERT_features.index]\n",
    "df_BERT_target = df_BERT_target.reset_index().drop_duplicates(subset='index', keep='last').set_index('index')"
   ]
  },
  {
   "cell_type": "code",
   "execution_count": 41,
   "id": "06f4716e",
   "metadata": {},
   "outputs": [
    {
     "data": {},
     "execution_count": 41,
     "metadata": {},
     "output_type": "execute_result"
    }
   ],
   "source": [
    "df_BERT_features.shape[0]"
   ]
  },
  {
   "cell_type": "code",
   "execution_count": 42,
   "id": "8a78c02d",
   "metadata": {},
   "outputs": [
    {
     "data": {},
     "execution_count": 42,
     "metadata": {},
     "output_type": "execute_result"
    }
   ],
   "source": [
    "df_BERT_target.shape[0]"
   ]
  },
  {
   "cell_type": "code",
   "execution_count": 43,
   "id": "9656dfb5",
   "metadata": {},
   "outputs": [],
   "source": [
    "tokenizer = AutoTokenizer.from_pretrained('unitary/toxic-bert', local_files_only=False, truncation=True)\n",
    "model = AutoModelForSequenceClassification.from_pretrained('unitary/toxic-bert', local_files_only=False)"
   ]
  },
  {
   "cell_type": "code",
   "execution_count": 44,
   "id": "5548624c",
   "metadata": {},
   "outputs": [],
   "source": [
    "#tokenizer = transformers.BertTokenizer(\n",
    "    #vocab_file= 'vocab.txt',  truncation=True)\n",
    "def tok(features):\n",
    "    tokenized = df_BERT_features.text.apply(\n",
    "        lambda x: tokenizer.encode(x, add_special_tokens=True, max_length=512))\n",
    "\n",
    "    max_len = 0\n",
    "    for i in tokenized.values:\n",
    "        if len(i) > max_len:\n",
    "            max_len = len(i)\n",
    "\n",
    "    padded = np.array([i + [0]*(max_len - len(i)) for i in tokenized.values])\n",
    "    attention_mask = np.where(padded != 0, 1, 0)\n",
    "    return padded, attention_mask"
   ]
  },
  {
   "cell_type": "code",
   "execution_count": 45,
   "id": "81af480b",
   "metadata": {},
   "outputs": [],
   "source": [
    "padded, attention_mask = tok(df_BERT_features)"
   ]
  },
  {
   "cell_type": "markdown",
   "id": "f7d64d4f",
   "metadata": {},
   "source": [
    "Эмбединги"
   ]
  },
  {
   "cell_type": "code",
   "execution_count": 46,
   "id": "a6b827c5",
   "metadata": {},
   "outputs": [],
   "source": [
    "def emb(padded, attention_mask, batch_size):\n",
    "    embeddings = []\n",
    "    for i in notebook.tqdm(range(padded.shape[0] // batch_size)):\n",
    "            batch = torch.LongTensor(padded[batch_size*i:batch_size*(i+1)]) \n",
    "            attention_mask_batch = torch.LongTensor(attention_mask[batch_size*i:batch_size*(i+1)])          \n",
    "            with torch.no_grad():\n",
    "                batch_embeddings = model(batch, attention_mask=attention_mask_batch)\n",
    "        \n",
    "            embeddings.append(batch_embeddings[0][:,0].numpy()) \n",
    "    return embeddings"
   ]
  },
  {
   "cell_type": "code",
   "execution_count": 47,
   "id": "378988c0",
   "metadata": {},
   "outputs": [
    {
     "data": {
      "application/vnd.jupyter.widget-view+json": {
       "model_id": "c49db271d18440f687babc5b96746d36",
       "version_major": 2,
       "version_minor": 0
      }
     },
     "metadata": {},
     "output_type": "display_data"
    }
   ],
   "source": [
    "embeddings = emb(padded, attention_mask, 100)"
   ]
  },
  {
   "cell_type": "code",
   "execution_count": 48,
   "id": "e041e068",
   "metadata": {},
   "outputs": [],
   "source": [
    "features_bert = np.concatenate(embeddings)"
   ]
  },
  {
   "cell_type": "code",
   "execution_count": 49,
   "id": "a921439e",
   "metadata": {},
   "outputs": [
    {
     "data": {},
     "execution_count": 49,
     "metadata": {},
     "output_type": "execute_result"
    }
   ],
   "source": [
    "features_bert.shape"
   ]
  },
  {
   "cell_type": "code",
   "execution_count": 50,
   "id": "22eed70d",
   "metadata": {},
   "outputs": [],
   "source": [
    "features_bert = features_bert.reshape(-1,1)"
   ]
  },
  {
   "cell_type": "markdown",
   "id": "4f9c9f37",
   "metadata": {},
   "source": [
    "**Вывод:** \n",
    "\n",
    "В ходе этапа:\n",
    "\n",
    "1. Провели токенизацию твитов\n",
    "2. Построили эмбединги твитов\n",
    "\n",
    "Можно переходить к постройке модели"
   ]
  },
  {
   "cell_type": "markdown",
   "id": "cae1f4dc",
   "metadata": {},
   "source": [
    "# 4 Построение модели"
   ]
  },
  {
   "cell_type": "markdown",
   "id": "5d31eb1f",
   "metadata": {},
   "source": [
    "## 4.1. Подготовка модели"
   ]
  },
  {
   "cell_type": "markdown",
   "id": "d9a3bbf9",
   "metadata": {},
   "source": [
    "**Строим модель**"
   ]
  },
  {
   "cell_type": "code",
   "execution_count": 51,
   "id": "ee9c5dec",
   "metadata": {},
   "outputs": [],
   "source": [
    "X_train, X_test, y_train, y_test = train_test_split(features_bert, df_BERT_target, test_size=0.2, random_state=42)"
   ]
  },
  {
   "cell_type": "code",
   "execution_count": 52,
   "id": "6b85aa45",
   "metadata": {},
   "outputs": [
    {
     "data": {},
     "execution_count": 52,
     "metadata": {},
     "output_type": "execute_result"
    }
   ],
   "source": [
    "param_grid = {}\n",
    "model = LogisticRegression(class_weight='balanced')\n",
    "gs = GridSearchCV(model, param_grid=param_grid,  scoring= 'f1')\n",
    "gs.fit(X_train, y_train)\n",
    "gs.best_score_"
   ]
  },
  {
   "cell_type": "code",
   "execution_count": 53,
   "id": "8df0fa08",
   "metadata": {},
   "outputs": [
    {
     "data": {},
     "execution_count": 53,
     "metadata": {},
     "output_type": "execute_result"
    }
   ],
   "source": [
    "param_grid = {'n_estimators':[10,20,40], \n",
    "             'max_depth': [5,10,15]}  \n",
    "model = RandomForestClassifier(class_weight='balanced')\n",
    "gs = GridSearchCV(model, param_grid=param_grid,  scoring= 'f1')\n",
    "gs.fit(X_train, y_train)\n",
    "gs.best_score_"
   ]
  },
  {
   "cell_type": "code",
   "execution_count": 54,
   "id": "37cd5bf0",
   "metadata": {},
   "outputs": [
    {
     "data": {},
     "execution_count": 54,
     "metadata": {},
     "output_type": "execute_result"
    }
   ],
   "source": [
    "param_grid = {'n_estimators':[50,75,100], \n",
    "             'num_leaves=': [5,10,15]}  \n",
    "model = LGBMClassifier(class_weight='balanced')\n",
    "gs = GridSearchCV(model, param_grid=param_grid,  scoring= 'f1')\n",
    "gs.fit(X_train, y_train)\n",
    "gs.best_score_"
   ]
  },
  {
   "cell_type": "code",
   "execution_count": 55,
   "id": "3863d7c4",
   "metadata": {},
   "outputs": [
    {
     "data": {},
     "execution_count": 55,
     "metadata": {},
     "output_type": "execute_result"
    }
   ],
   "source": [
    "param_grid = {'n_estimators':[10,20,40], \n",
    "             'max_depth': [5,10,15]}  \n",
    "model = RandomForestClassifier(class_weight='balanced')\n",
    "gs = GridSearchCV(model, param_grid=param_grid,  scoring= 'f1')\n",
    "gs.fit(X_train, y_train)\n",
    "gs.best_score_"
   ]
  },
  {
   "cell_type": "markdown",
   "id": "0bdccb10",
   "metadata": {},
   "source": [
    "**Вывод:** \n",
    "\n",
    "Лучшие результаты показал случайный лес"
   ]
  },
  {
   "cell_type": "markdown",
   "id": "fe4f2c43",
   "metadata": {},
   "source": [
    "## 4.2. Тестирование модели"
   ]
  },
  {
   "cell_type": "code",
   "execution_count": 56,
   "id": "3046ddff",
   "metadata": {
    "scrolled": true
   },
   "outputs": [],
   "source": [
    "print('f1_score:', f1_score(y_test, gs.best_estimator_.predict(X_test)))"
   ]
  },
  {
   "cell_type": "markdown",
   "id": "98e762d2",
   "metadata": {},
   "source": [
    "# 5 Вывод"
   ]
  },
  {
   "cell_type": "markdown",
   "id": "3c701c66",
   "metadata": {},
   "source": [
    "## 5.1 Постановка задачи"
   ]
  },
  {
   "cell_type": "markdown",
   "id": "9e62c620",
   "metadata": {},
   "source": [
    "Интернет-магазин «Викишоп» запускает новый сервис. Теперь пользователи могут редактировать и дополнять описания товаров, как в вики-сообществах. То есть клиенты предлагают свои правки и комментируют изменения других. Магазину нужен инструмент, который будет искать токсичные комментарии и отправлять их на модерацию. \n",
    "Требуется обучить модель классифицировать комментарии на позитивные и негативные. \n",
    "Постройте модель со значением метрики качества F1 не меньше 0.75. "
   ]
  },
  {
   "cell_type": "markdown",
   "id": "45bf9154",
   "metadata": {},
   "source": [
    "## 5.2 Ход решения"
   ]
  },
  {
   "cell_type": "markdown",
   "id": "087f03d9",
   "metadata": {},
   "source": [
    "В ходе решения задачи был загружен и обработан датасет сервиса \"Викишоп\".\n",
    "\n",
    "В ходе анализа данных было выявлено следующее:\n",
    "\n",
    "1. Пропусков и дубликатов нет\n",
    "2. Названия столбцоов соответствуют snake_case\n",
    "3. Классы не сбалансированы\n",
    "\n",
    "В ходе импорта данных прзнаки датасета были лематизированы. Для увеличения количества записей с целевым признаком \"1\" выполнили семплирование датасета\n",
    "\n",
    "В ходе подготовки выборок признак был токенезирован. Для токенезированного признака с помощью готовой модели BERT были подготовлены эмбединги.\n",
    "\n",
    "По выборкам были построены модели "
   ]
  },
  {
   "cell_type": "markdown",
   "id": "414ffd99",
   "metadata": {},
   "source": [
    "## 5.3 Выводы"
   ]
  },
  {
   "cell_type": "markdown",
   "id": "44a4cfe3",
   "metadata": {},
   "source": [
    "В ходе работы сумели построить модель, удовлетворяющую условию f1_score > 0.75"
   ]
  },
  {
   "attachments": {
    "image.png": {
     "image/png": "[encoded data removed]"
    }
   },
   "cell_type": "markdown",
   "id": "636c1185",
   "metadata": {},
   "source": [
    "![image.png](attachment:image.png)"
   ]
  },
  {
   "cell_type": "code",
   "execution_count": null,
   "id": "a305ca38",
   "metadata": {},
   "outputs": [],
   "source": []
  }
 ],
 "metadata": {
  "ExecuteTimeLog": [
   {
    "duration": 16,
    "start_time": "2023-12-01T09:36:10.497Z"
   }
  ],
  "kernelspec": {
   "display_name": "Python 3 (ipykernel)",
   "language": "python",
   "name": "python3"
  },
  "language_info": {
   "codemirror_mode": {
    "name": "ipython",
    "version": 3
   },
   "file_extension": ".py",
   "mimetype": "text/x-python",
   "name": "python",
   "nbconvert_exporter": "python",
   "pygments_lexer": "ipython3",
   "version": "3.11.5"
  },
  "toc": {
   "base_numbering": 1,
   "nav_menu": {},
   "number_sections": true,
   "sideBar": true,
   "skip_h1_title": true,
   "title_cell": "Table of Contents",
   "title_sidebar": "Contents",
   "toc_cell": false,
   "toc_position": {
    "height": "calc(100% - 180px)",
    "left": "10px",
    "top": "150px",
    "width": "241px"
   },
   "toc_section_display": true,
   "toc_window_display": true
  }
 },
 "nbformat": 4,
 "nbformat_minor": 5
}
